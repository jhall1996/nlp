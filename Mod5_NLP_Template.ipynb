{
  "cells": [
    {
      "cell_type": "markdown",
      "metadata": {
        "id": "view-in-github",
        "colab_type": "text"
      },
      "source": [
        "<a href=\"https://colab.research.google.com/github/jhall1996/nlp/blob/main/Mod5_NLP_Template.ipynb\" target=\"_parent\"><img src=\"https://colab.research.google.com/assets/colab-badge.svg\" alt=\"Open In Colab\"/></a>"
      ]
    },
    {
      "cell_type": "code",
      "metadata": {
        "id": "n8_8xLvOK4AS"
      },
      "source": [
        "# This provides a framework for functions that will be tested as part of module 5 NLP\n",
        "# You should test your submissions against the cases listed below, they will then be \n",
        "# tested against further unseen cases before being reviewed manually."
      ],
      "execution_count": null,
      "outputs": []
    },
    {
      "cell_type": "markdown",
      "metadata": {
        "id": "luyWe9n6K_u5"
      },
      "source": [
        "**THE ASSIGNMENT**\n",
        "\n",
        "Populate the notebook below to create functions that achieve the following tasks.\n",
        "They must also pass the tests included at the bottom of the notebook. \n",
        "**Part 1**: produce a scraper function that can return the following information when given a URL from the BBC news page.  This function must be iterable - it can be used in a loop to examine a number of URLs and return the following information as a JSON.\n",
        "\n",
        "a) URL (provided.  For example https://www.bbc.co.uk/news/uk-51004218)\n",
        "\n",
        "b) Title\n",
        "\n",
        "c) Date\n",
        "\n",
        "d) Content (the main body of article)\n",
        "\n",
        "**Part 2**:  Write a function that when given a block of text (as a string)  returns all the following entities in a json object,  It is suggested that you use a pre-built or custom entity recogniser rather than a rules based method.  There are entity recognisers in the following python packages: NLTK, spacy\n",
        "\n",
        "a) people\n",
        "\n",
        "b) places\n",
        "\n",
        "c) organisations \n",
        "\n",
        "**CONSTRAINTS**\n",
        "The code must run in Google Colab.\n",
        "\n",
        "Do not change the name of the functions or their inputs.\n",
        "\n",
        "Your functions will be expected to return outputs as specified in the template functions.\n",
        "\n",
        "You may add additional functions as desired.\n",
        "\n",
        "Do not change the test cases at the bottom."
      ]
    },
    {
      "cell_type": "code",
      "metadata": {
        "id": "0kV2yn3KLU68",
        "colab": {
          "base_uri": "https://localhost:8080/"
        },
        "outputId": "43101e5e-e5e6-4541-827f-318e8d8a10cf"
      },
      "source": [
        "#Do not chance these dependencies\n",
        "import pytest\n",
        "# Import your dependencies here\n",
        "from bs4 import BeautifulSoup\n",
        "import requests\n",
        "import json\n",
        "import nltk\n",
        "from nltk import ne_chunk, pos_tag, word_tokenize\n",
        "from nltk.tree import Tree\n",
        "nltk.download('punkt')\n",
        "nltk.download('averaged_perceptron_tagger')\n",
        "nltk.download('maxent_ne_chunker')\n",
        "nltk.download('words')"
      ],
      "execution_count": 1,
      "outputs": [
        {
          "output_type": "stream",
          "name": "stderr",
          "text": [
            "[nltk_data] Downloading package punkt to /root/nltk_data...\n",
            "[nltk_data]   Unzipping tokenizers/punkt.zip.\n",
            "[nltk_data] Downloading package averaged_perceptron_tagger to\n",
            "[nltk_data]     /root/nltk_data...\n",
            "[nltk_data]   Unzipping taggers/averaged_perceptron_tagger.zip.\n",
            "[nltk_data] Downloading package maxent_ne_chunker to\n",
            "[nltk_data]     /root/nltk_data...\n",
            "[nltk_data]   Unzipping chunkers/maxent_ne_chunker.zip.\n",
            "[nltk_data] Downloading package words to /root/nltk_data...\n",
            "[nltk_data]   Unzipping corpora/words.zip.\n"
          ]
        },
        {
          "output_type": "execute_result",
          "data": {
            "text/plain": [
              "True"
            ]
          },
          "metadata": {},
          "execution_count": 1
        }
      ]
    },
    {
      "cell_type": "code",
      "source": [
        "def bbc_scraper(url):\n",
        "    response = requests.get(url)\n",
        "    soup = BeautifulSoup(response.content, 'html.parser')\n",
        "\n",
        "    # Extract the title, date, and content using HTML tags and CSS selectors\n",
        "    title = soup.select_one('#main-heading').text.strip() #Extract title from main-heading ID\n",
        "    datetime_str = soup.select_one('time[data-testid=\"timestamp\"]').get('datetime') #Extract the date as a string from the datetime ID\n",
        "    date_published = datetime_str[:10]  # Extract only the year, month, and date from the datetime string\n",
        "    content_divs = soup.select('div[data-component=\"text-block\"]') #Selects and stores all text blocks from the article\n",
        "    content = ' '.join([div.find('p').text.strip() for div in content_divs]) #Iterates through each element in content_divs, removing whitespace and joining extracted text into a single string \n",
        "\n",
        "    # Create a dictionary with the extracted information\n",
        "    results = {\n",
        "        'URL': url,\n",
        "        'Title': title,\n",
        "        'Date_published': date_published,\n",
        "        'Content': content\n",
        "    }\n",
        "\n",
        "    return results\n",
        "\n",
        "# Example usage\n",
        "url = input('Please enter BBC URL ')\n",
        "results = bbc_scraper(url)\n",
        "print(json.dumps(results, indent=4))\n"
      ],
      "metadata": {
        "colab": {
          "base_uri": "https://localhost:8080/"
        },
        "id": "6nmsMcVpQf55",
        "outputId": "7c38dfa1-141e-4b93-a0dd-d47bd8742ede"
      },
      "execution_count": 6,
      "outputs": [
        {
          "output_type": "stream",
          "name": "stdout",
          "text": [
            "Please enter BBC URL https://www.bbc.co.uk/news/entertainment-arts-65876276\n",
            "{\n",
            "    \"URL\": \"https://www.bbc.co.uk/news/entertainment-arts-65876276\",\n",
            "    \"Title\": \"Tony Awards 2023: Jodie Comer wins as Ariana DeBose hosts unscripted\",\n",
            "    \"Date_published\": \"2023-06-12\",\n",
            "    \"Content\": \"Jodie Comer says she's \\\"overwhelmed\\\" after winning a prestigious Tony Award for her one-woman Broadway show Prima Facie. The Killing Eve actress won best leading actress in a play for her portrayal of a defence lawyer who ends up in the witness box. The Tony Awards were hosted by Ariana DeBose in New York, but she did not use a script due to the writers strike. The ceremony also saw two non-binary actors win prizes for the first time. In her acceptance speech for her performance in Prima Facie, Comer said: \\\"This woman in this play has been my greatest teacher. \\\"I have to thank Suzie Miller for that, who wrote this magnificent piece. Without her writing that [I] would not be here so this feels just as much Suzie's as it is mine.\\\" The 30-year-old from Liverpool has previously won an Olivier award for her performance, which transferred from London's West End to Broadway. Last week, Comer had to leave the stage during a performance due to breathing difficulties as a result of wildfire smoke across North America. The performance was completed by her understudy. The actress went on to thank members of her production team and apologised to her friends and family for being \\\"absent\\\" in the past year as she worked on the show. \\\"To every person who feels represented by Tessa, this has been my greatest honour,\\\" she said, quickly adding \\\"and it continues to be -  there's three weeks left!\\\" Sunday's ceremony, which is Broadway's biggest night of the year, was hosted by Oscar-winning actress Ariana DeBose who warned audiences to \\\"buckle up\\\" as the show was unscripted, due to the ongoing Hollywood writers strike. The show opened with a performance where she flipped through empty pages in a binder labelled \\\"script\\\" in a dressing room \\\"We don't have a script you guys. I am live and unscripted. You're welcome,\\\" DeBose said. \\\"To anyone who may have thought that last year was a bit unhinged. To them I say 'darlings, buckle up'.\\\" Several winners, including best leading actress in a musical winner Victoria Clark, referenced the Writers Guild of America (WGA) strike during acceptance speeches. \\\"We are nothing without our writers and I support the WGA and their struggle for the contract they deserve,\\\" she said. Also at Sunday's ceremony, Alex Newell and J Harrison Ghee became the first non-binary performers to be recognised at the awards. Newell won the best featured actor in a musical for Shucked, while J. Harrison Ghee, won best leading actor in a musical for playing a gender-questioning musician in Some Like It Hot. Michael Arden won his first Tony Award for his direction of the Broadway revival of Parade, which depicts the 1913 trial and imprisonment, and 1915 lynching, of the Jewish-American factory manager Leo Frank in Georgia. In his acceptance speech, Arden said: \\\"Parade tells the story of a life that was cut short at the hands of the belief that one group of people is more or less valuable than another and that they might be more deserving of justice. \\\"This is a belief that is the core of antisemitism, of white supremacy, of homophobia, of transphobia and intolerance of any kind. We must come together. We must battle this. It is so, so important, or else we are doomed to repeat the horrors of our history.\\\" You may also be interested in: One of the night's biggest awards, best play, went to British writer Sir Tom Stoppard for his play Leopoldstadt, which also scooped best direction, best costume and best performance by an actor in a play. British creatives Tim Hatley and Andrzej Goulding, Tim Lutkin and Carolyn Downing picked up awards for the Life of Pi, with Goulding and Downing referencing Sheffield, where the play had its premiere, in their acceptance speeches. Kimberly Akimbo was named best musical, also scooping best original score and best leading actress for Victoria Clark. Best play - Leopoldstadt Best musical - Kimberly Akimbo Best book of a musical - Kimberly Akimbo, David Lindsay-Abaire Best original score - Kimberly Akimbo, David Lindsay-Abaire (lyrics), Jeanine Tesori (music) Best revival of a play - Suzan-Lori Parks' Topdog/ Underdog Best revival of a musical - Parade Best performance by an actor in a leading role in a play - Sean Hayes for Good Night, Oscar Best performance by an actress in a leading role in a play - Jodie Comer for Prima Facie Best performance by an actor in a leading role in a musical - J. Harrison Ghee for Some Like It Hot Best performance by an actress in a leading role in a musical - Victoria Clark for Kimberly Akimbo Best performance by an actor in a featured role in a play - Brandon Uranowitz for Leopoldstadt Best performance by an actress in a featured role in a play - Miriam Silverman for The Sign in Sidney Brustein's Window Best performance by an actor in a featured role in a musical - Alex Newell for Shucked Best performance by an actress in a featured role in a musical - Bonnie Milligan for Kimberly Akimbo Best scenic design of a play - Tim Hatley & Andrzej Goulding for Life of Pi Best scenic design of a musical - Beowulf Boritt for New York, New York Best costume design of a play - Brigitte Reiffenstuel for Leopoldstadt Best costume design of a musical - Gregg Barnes for Some Like It Hot Best lighting design of a play - Tim Lutkin for Life of Pi Best lighting design of a musical - Natasha Katz for Sweeney Todd: The Demon Barber of Fleet Street Best sound design of a play - Carolyn Downing for Life of Pi Best sound design of a musical - Nevin Steinberg for Sweeney Todd: The Demon Barber of Fleet Street Best direction of a play - Patrick Marber for Leopoldstadt Best direction of a musical - Michael Arden for Parade Best choreography - Casey Nicholaw for Some Like It Hot Best orchestrations - Charlie Rosen & Bryan Carter for Some Like It Hot Special Tony Award for lifetime achievement in the theatre - Joel Grey and John Kander Isabelle Stevenson Tony Award - Jerry Mitchell Regional theatre Tony Award - Pasadena Playhouse Tony Honours for excellence in the theatre - Victoria Bailey, Lisa Dawn Cave and Robert Fried\"\n",
            "}\n"
          ]
        }
      ]
    },
    {
      "cell_type": "code",
      "metadata": {
        "id": "FDvLnOzZK79s",
        "colab": {
          "base_uri": "https://localhost:8080/"
        },
        "outputId": "cde62988-fb68-48fb-f8b0-65b5c93a2627"
      },
      "source": [
        "def extract_entities(string):\n",
        "    #Initialise an empty dictionary for extracted entitied to be stored\n",
        "    entities_json = {'People': [], 'Places': [], 'Organisations': []}\n",
        "\n",
        "    #Performa speech tagging and entity recognition on string\n",
        "    tags = (nltk.pos_tag(string.split()))\n",
        "    entity_chunker = nltk.ne_chunk(tags)\n",
        "\n",
        "    #Iterate over subtrees of the entity chunker\n",
        "    for subtree in entity_chunker.subtrees(filter=lambda t: hasattr(t, 'label') and t.label() in ['PERSON', 'GPE', 'ORG']):\n",
        "        #Extract entity type and name\n",
        "        entity_type = subtree.label()\n",
        "        entity_name = ' '.join(leaf[0] for leaf in subtree.leaves())\n",
        "        \n",
        "        #Store entity type within entity dictionary\n",
        "        if entity_type == 'PERSON':\n",
        "            entities_json['People'].append(entity_name)\n",
        "        elif entity_type == 'GPE':\n",
        "            entities_json['Places'].append(entity_name)\n",
        "        elif entity_type == 'ORG':\n",
        "            entities_json['Organisations'].append(entity_name)\n",
        "\n",
        "    # Remove duplicates from the entity dictionary\n",
        "    for entity_type in entities_json:\n",
        "        entities_json[entity_type] = list(set(entities_json[entity_type]))\n",
        "\n",
        "    #Return entities extracted from string as a json\n",
        "    return entities_json\n",
        "\n",
        "#Call scraper and print results\n",
        "scraper_result = bbc_scraper(url)\n",
        "entities_json = extract_entities(scraper_result['Content'])\n",
        "print(json.dumps(entities_json, indent=4))"
      ],
      "execution_count": 7,
      "outputs": [
        {
          "output_type": "stream",
          "name": "stdout",
          "text": [
            "{\n",
            "    \"People\": [\n",
            "        \"Andrzej\",\n",
            "        \"Brandon Uranowitz\",\n",
            "        \"Prima\",\n",
            "        \"Sir Tom Stoppard\",\n",
            "        \"Tony Award\",\n",
            "        \"Ariana\",\n",
            "        \"Good\",\n",
            "        \"Tim Lutkin\",\n",
            "        \"Brigitte Reiffenstuel\",\n",
            "        \"Patrick Marber\",\n",
            "        \"Hot Special Tony Award\",\n",
            "        \"Alex Newell\",\n",
            "        \"Akimbo Best\",\n",
            "        \"Sean Hayes\",\n",
            "        \"Ariana DeBose\",\n",
            "        \"Jodie\",\n",
            "        \"Liverpool\",\n",
            "        \"Victoria\",\n",
            "        \"Carolyn Downing\",\n",
            "        \"Kimberly Akimbo Best\",\n",
            "        \"Charlie Rosen\",\n",
            "        \"Lutkin\",\n",
            "        \"John Kander Isabelle Stevenson Tony Award\",\n",
            "        \"Fleet Street Best\",\n",
            "        \"Jodie Comer\",\n",
            "        \"Nevin Steinberg\",\n",
            "        \"Parade Best\",\n",
            "        \"Harrison Ghee\",\n",
            "        \"Arden\",\n",
            "        \"Michael Arden\",\n",
            "        \"David\",\n",
            "        \"Beowulf Boritt\",\n",
            "        \"Bryan Carter\",\n",
            "        \"Robert Fried\",\n",
            "        \"Kimberly Akimbo\",\n",
            "        \"Harrison\",\n",
            "        \"Suzie Miller\",\n",
            "        \"Leopoldstadt Best\",\n",
            "        \"Sweeney\",\n",
            "        \"Bonnie Milligan\",\n",
            "        \"Jeanine Tesori\",\n",
            "        \"Natasha Katz\",\n",
            "        \"Kimberly\",\n",
            "        \"Miriam Silverman\",\n",
            "        \"Casey Nicholaw\",\n",
            "        \"Shucked Best\",\n",
            "        \"Prima Facie Best\",\n",
            "        \"Joel Grey\",\n",
            "        \"Jerry Mitchell Regional\",\n",
            "        \"Leo Frank\",\n",
            "        \"Tim Hatley\",\n",
            "        \"Andrzej Goulding\",\n",
            "        \"Pasadena Playhouse Tony Honours\"\n",
            "    ],\n",
            "    \"Places\": [\n",
            "        \"Gregg Barnes\",\n",
            "        \"Victoria\",\n",
            "        \"New York Best\",\n",
            "        \"Broadway\",\n",
            "        \"British\",\n",
            "        \"America\",\n",
            "        \"Prima\",\n",
            "        \"New\",\n",
            "        \"North\",\n",
            "        \"Sidney\"\n",
            "    ],\n",
            "    \"Organisations\": []\n",
            "}\n"
          ]
        }
      ]
    },
    {
      "cell_type": "code",
      "metadata": {
        "id": "iuiH-IhIK73H"
      },
      "source": [
        "####################################################################\n",
        "# Test cases\n",
        "\n",
        "def test_bbc_scrape():\n",
        "    results = {'URL': 'https://www.bbc.co.uk/news/uk-52255054',\n",
        "                'Title': 'Coronavirus: \\'We need Easter as much as ever,\\' says the Queen',\n",
        "                'Date_published': '11 April 2020',\n",
        "                'Content': '\"Coronavirus will not overcome us,\" the Queen has said, in an Easter message to the nation. While celebrations would be different for many this year, she said: \"We need Easter as much as ever.\" Referencing the tradition of lighting candles to mark the occasion, she said: \"As dark as death can be - particularly for those suffering with grief - light and life are greater.\" It comes as the number of coronavirus deaths in UK hospitals reached 9,875. Speaking from Windsor Castle, the Queen said many religions had festivals celebrating light overcoming darkness, which often featured the lighting of candles. She said: \"They seem to speak to every culture, and appeal to people of all faiths, and of none. \"They are lit on birthday cakes and to mark family anniversaries, when we gather happily around a source of light. It unites us.\" The monarch, who is head of the Church of England, said: \"As darkness falls on the Saturday before Easter Day, many Christians would normally light candles together.  \"In church, one light would pass to another, spreading slowly and then more rapidly as more candles are lit. It\\'s a way of showing how the good news of Christ\\'s resurrection has been passed on from the first Easter by every generation until now.\" As far as we know, this is the first time the Queen has released an Easter message. And coming as it does less than a week since the televised broadcast to the nation, it underlines the gravity of the situation as it is regarded by the monarch. It serves two purposes really; it is underlining the government\\'s public safety message, acknowledging Easter will be difficult for us but by keeping apart we keep others safe, and the broader Christian message of hope and reassurance.  We know how important her Christian faith is, and coming on the eve of Easter Sunday, it is clearly a significant time for people of all faiths, but particularly Christian faith. She said the discovery of the risen Christ on the first Easter Day gave his followers new hope and fresh purpose, adding that we could all take heart from this.  Wishing everyone of all faiths and denominations a blessed Easter, she said: \"May the living flame of the Easter hope be a steady guide as we face the future.\" The Queen, 93, recorded the audio message in the White Drawing Room at Windsor Castle, with one sound engineer in the next room.  The Palace described it as \"Her Majesty\\'s contribution to those who are celebrating Easter privately\".  It follows a speech on Sunday, in which the monarch delivered a rallying message to the nation. In it, she said the UK \"will succeed\" in its fight against the coronavirus pandemic, thanked people for following government rules about staying at home and praised those \"coming together to help others\". She also thanked key workers, saying \"every hour\" of work \"brings us closer to a return to more normal times\".'}\n",
        "    scraper_result = bbc_scraper('https://www.bbc.co.uk/news/uk-52255054')\n",
        "    assert json.loads(scraper_result) == results\n",
        "\n",
        "\n",
        "def test_extract_entities_amazon_org():\n",
        "    input_string = \"I work for Amazon.\"\n",
        "    results_dict = {'people':[],\n",
        "                    'places':[],\n",
        "                    'organisations': ['Amazon']\n",
        "                    }\n",
        "    extracted_entities_results = extract_entities(input_string)\n",
        "    assert json.loads(extracted_entities_results) == results_dict\n",
        "\n",
        "\n",
        "def test_extract_entities_name():\n",
        "    input_string = \"My name is Bob\"\n",
        "    results_dict = {'people':['Bob'],\n",
        "                    'places':[],\n",
        "                    'organisations': []\n",
        "                    }\n",
        "    extracted_entities_results = extract_entities(input_string)\n",
        "    assert json.loads(extracted_entities_results) == results_dict"
      ],
      "execution_count": null,
      "outputs": []
    },
    {
      "cell_type": "code",
      "metadata": {
        "id": "-EtNG-mJK7pt"
      },
      "source": [
        "test_bbc_scrape()\n",
        "test_extract_entities_amazon_org()\n",
        "test_extract_entities_name()"
      ],
      "execution_count": null,
      "outputs": []
    }
  ],
  "metadata": {
    "colab": {
      "name": "Mod5_NLP_Template.ipynb",
      "provenance": [],
      "include_colab_link": true
    },
    "kernelspec": {
      "name": "python3",
      "display_name": "Python 3"
    }
  },
  "nbformat": 4,
  "nbformat_minor": 0
}